{
 "cells": [
  {
   "cell_type": "markdown",
   "metadata": {},
   "source": [
    "# 💻🐍 | Curso de python para principiantes"
   ]
  },
  {
   "cell_type": "markdown",
   "metadata": {},
   "source": [
    "## ¿Qué es Python?"
   ]
  },
  {
   "cell_type": "markdown",
   "metadata": {},
   "source": [
    "Python es un lenguaje de programación de **alto nivel**, **interpretado** y de **propósito general**.\n",
    "\n",
    "* **Alto nivel:** Fácil de entender para humanos, abstracto y portátil.\n",
    "* **Interpretado:** Traducido y ejecutado línea por línea en tiempo de ejecución, flexible y rápido de desarrollar."
   ]
  },
  {
   "cell_type": "markdown",
   "metadata": {},
   "source": [
    "#### Historia y evolución de python\n",
    "* Python fue creado por [Guido van Rossum](https://es.wikipedia.org/wiki/Guido_van_Rossum ) y la primera versión fue lanzada en 1991.\n",
    "* Se ha convertido en uno de los lenguajes de programación más populares debido a su simplicidad y versatilidad."
   ]
  },
  {
   "cell_type": "markdown",
   "metadata": {},
   "source": [
    "#### Aplicaciones de python en el mundo real\n",
    "\n",
    "* Desarrollo web (con frameworks como Django y Flask).\n",
    "* Ciencia de datos y análisis (con librerías como Pandas y NumPy).\n",
    "* Automatización de tareas.\n",
    "* Desarrollo de inteligencia artificial y machine learning."
   ]
  },
  {
   "cell_type": "markdown",
   "metadata": {},
   "source": [
    "## _Hola mundo_ con Python"
   ]
  },
  {
   "cell_type": "markdown",
   "metadata": {},
   "source": [
    "`print('Hello, world')` es una instrucción en Python que imprime el texto `'Hello, world'`.\n",
    "\n",
    "* `print` es una función incorporada en Python que se utiliza para mostrar mensajes en la pantalla.\n",
    "* `'Hello, world'` es una cadena de texto (string) que se pasa como argumento a la función `print`.\n"
   ]
  },
  {
   "cell_type": "code",
   "execution_count": 1,
   "metadata": {},
   "outputs": [
    {
     "name": "stdout",
     "output_type": "stream",
     "text": [
      "Hello, world!\n",
      "¡Hola, mundo!\n"
     ]
    }
   ],
   "source": [
    "print('Hello, world!')\n",
    "print('¡Hola, mundo!')"
   ]
  },
  {
   "cell_type": "markdown",
   "metadata": {},
   "source": [
    "* **Función:** Bloque de código reutilizables que realizan tareas específicas.\n",
    "* **Argumento:** Valor que se pasa a una función para que esta los utilice.\n",
    "* **Cadenas de texto (string):** Secuencias de caracteres.\n",
    "* **Salida:** Cómo mostrar información."
   ]
  },
  {
   "cell_type": "markdown",
   "metadata": {},
   "source": [
    "## Comentarios de código"
   ]
  },
  {
   "cell_type": "markdown",
   "metadata": {},
   "source": [
    "Los comentarios de código son anotaciones que los programadores insertan en el código fuente para explicar y clarificar partes específicas del mismo. En Python, los comentarios se crean utilizando el símbolo `#` para comentarios de una sola línea o `\"\"\"` para comentarios de múltiples líneas."
   ]
  },
  {
   "cell_type": "code",
   "execution_count": 2,
   "metadata": {},
   "outputs": [
    {
     "name": "stdout",
     "output_type": "stream",
     "text": [
      "Hello, world!\n"
     ]
    }
   ],
   "source": [
    "# Soy un comentario\n",
    "print('Hello, world!')  # Soy otro comentario"
   ]
  },
  {
   "cell_type": "code",
   "execution_count": 3,
   "metadata": {},
   "outputs": [
    {
     "name": "stdout",
     "output_type": "stream",
     "text": [
      "¡Hola, mundo!\n"
     ]
    }
   ],
   "source": [
    "# Soy un comentario multilinea\n",
    "\"\"\"\n",
    "print('Hello, world!')\n",
    "print('Hello, world!')\n",
    "print('Hello, world!')\n",
    "\"\"\"\n",
    "print('¡Hola, mundo!')"
   ]
  },
  {
   "cell_type": "markdown",
   "metadata": {},
   "source": [
    "Los comentarios ayudan a escribir código limpio, legible y mantenible. Facilita tu propio trabajo y el de los otr@s compañer@s."
   ]
  },
  {
   "cell_type": "markdown",
   "metadata": {},
   "source": [
    "## Tarea"
   ]
  },
  {
   "cell_type": "markdown",
   "metadata": {},
   "source": [
    "* ¿Qué es una variable en Python?\n",
    "* ¿Cuáles son los principales tipos de datos en Python?"
   ]
  }
 ],
 "metadata": {
  "kernelspec": {
   "display_name": "Python 3",
   "language": "python",
   "name": "python3"
  },
  "language_info": {
   "codemirror_mode": {
    "name": "ipython",
    "version": 3
   },
   "file_extension": ".py",
   "mimetype": "text/x-python",
   "name": "python",
   "nbconvert_exporter": "python",
   "pygments_lexer": "ipython3",
   "version": "3.9.6"
  }
 },
 "nbformat": 4,
 "nbformat_minor": 2
}
