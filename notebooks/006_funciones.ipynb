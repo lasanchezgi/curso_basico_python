{
 "cells": [
  {
   "cell_type": "markdown",
   "metadata": {},
   "source": [
    "# 💻🐍 | Curso de python para principiantes"
   ]
  },
  {
   "cell_type": "markdown",
   "metadata": {},
   "source": [
    "## Funciones"
   ]
  },
  {
   "cell_type": "markdown",
   "metadata": {},
   "source": [
    "En Python, una función es un bloque de código reutilizable que realiza una tarea específica. Las funciones permiten organizar y estructurar el código de manera modular, facilitando su mantenimiento y reutilización. Las funciones pueden recibir datos de entrada (argumentos) y devolver un resultado (valor de retorno).\n",
    "\n",
    "Para definir una función en Python, se utiliza la palabra clave `def`, seguida del nombre de la función, paréntesis que pueden contener parámetros, y dos puntos. El bloque de código de la función se escribe con sangría.\n",
    "\n"
   ]
  },
  {
   "cell_type": "markdown",
   "metadata": {},
   "source": [
    "```python\n",
    "def nombre_de_la_funcion(parametros):\n",
    "    # Bloque de código\n",
    "    return valor_de_retorno\n",
    "```"
   ]
  },
  {
   "cell_type": "code",
   "execution_count": 1,
   "metadata": {},
   "outputs": [
    {
     "name": "stdout",
     "output_type": "stream",
     "text": [
      "¡Hola, Mundo!\n"
     ]
    }
   ],
   "source": [
    "# La función saludar no recibe parámetros y simplemente imprime \"¡Hola, mundo!\" cuando se llama.\n",
    "def saludar():\n",
    "    print(\"¡Hola, Mundo!\")\n",
    "\n",
    "# Llamada a la función\n",
    "saludar()"
   ]
  },
  {
   "cell_type": "markdown",
   "metadata": {},
   "source": [
    "## Funciones con parámetros"
   ]
  },
  {
   "cell_type": "markdown",
   "metadata": {},
   "source": [
    "Las funciones pueden recibir uno o más parámetros, que son valores de entrada que la función utiliza para realizar su tarea."
   ]
  },
  {
   "cell_type": "code",
   "execution_count": 2,
   "metadata": {},
   "outputs": [
    {
     "name": "stdout",
     "output_type": "stream",
     "text": [
      "¡Hola, Ana!\n"
     ]
    }
   ],
   "source": [
    "# La función saludar recibe un parámetro nombre y lo utiliza para imprimir un saludo personalizado.\n",
    "def saludar(nombre):\n",
    "    print(f\"¡Hola, {nombre}!\")\n",
    "\n",
    "# Llamada a la función con un argumento\n",
    "saludar(\"Ana\")"
   ]
  },
  {
   "cell_type": "markdown",
   "metadata": {},
   "source": [
    "## Funciones con valor de retorno"
   ]
  },
  {
   "cell_type": "markdown",
   "metadata": {},
   "source": [
    "Las funciones pueden devolver un valor utilizando la palabra clave return."
   ]
  },
  {
   "cell_type": "code",
   "execution_count": 3,
   "metadata": {},
   "outputs": [
    {
     "name": "stdout",
     "output_type": "stream",
     "text": [
      "8\n"
     ]
    }
   ],
   "source": [
    "# La función sumar recibe dos parámetros a y b, y devuelve su suma.\n",
    "def sumar(a, b):\n",
    "    return a + b\n",
    "\n",
    "# Llamada a la función y almacenamiento del resultado\n",
    "resultado = sumar(3, 5)\n",
    "print(resultado)"
   ]
  },
  {
   "cell_type": "markdown",
   "metadata": {},
   "source": [
    "## Funciones con múltiples parámetros y valores de retorno"
   ]
  },
  {
   "cell_type": "markdown",
   "metadata": {},
   "source": [
    "Las funciones pueden recibir múltiples parámetros y devolver múltiples valores como una tupla.\n",
    "\n"
   ]
  },
  {
   "cell_type": "code",
   "execution_count": 4,
   "metadata": {},
   "outputs": [
    {
     "name": "stdout",
     "output_type": "stream",
     "text": [
      "Suma: 15, Resta: 5\n"
     ]
    }
   ],
   "source": [
    "# La función operaciones recibe dos parámetros a y b, y devuelve tanto la suma como la resta de esos valores.\n",
    "def operaciones(a, b):\n",
    "    suma = a + b\n",
    "    resta = a - b\n",
    "    return suma, resta\n",
    "\n",
    "# Llamada a la función y almacenamiento de los resultados\n",
    "resultado_suma, resultado_resta = operaciones(10, 5)\n",
    "print(f\"Suma: {resultado_suma}, Resta: {resultado_resta}\")"
   ]
  },
  {
   "cell_type": "markdown",
   "metadata": {},
   "source": [
    "`return` es una declaración utilizada dentro de una función para finalizar su ejecución y devolver un valor al llamado de la función. Algunos puntos claves sobre `return`:\n",
    "\n",
    "* **Finaliza la función:** Cuando se ejecuta una declaración de `return`, la función termina inmediatamente, y el control se devuelve al punto donde se llamó a la función.\n",
    "* **Devuelve un valor:** Puedes especificar un valor (o varios valores) después de `return`, que será el resultado de la función. Si no se especifica ningún valor, la función devolverá `None` por defecto.\n",
    "* **Opcional:** No todas las funciones necesitan una declaración `return`. Si una función no tiene `return`, devolverá `None` por defecto."
   ]
  },
  {
   "cell_type": "markdown",
   "metadata": {},
   "source": [
    "## Funciones con parámetros por defecto"
   ]
  },
  {
   "cell_type": "markdown",
   "metadata": {},
   "source": [
    "Puedes definir valores por defecto para los parámetros de una función. Si no se proporciona un argumento para un parámetro con valor por defecto, se utilizará el valor por defecto."
   ]
  },
  {
   "cell_type": "code",
   "execution_count": 5,
   "metadata": {},
   "outputs": [
    {
     "name": "stdout",
     "output_type": "stream",
     "text": [
      "¡Hola, Mundo!\n",
      "¡Hola, Ana!\n"
     ]
    }
   ],
   "source": [
    "# La función saludar tiene un parámetro nombre con un valor por defecto de \"Mundo\".\n",
    "def saludar(nombre=\"Mundo\"):\n",
    "    print(f\"¡Hola, {nombre}!\")\n",
    "\n",
    "# Llamadas a la función\n",
    "saludar()\n",
    "saludar(\"Ana\")"
   ]
  },
  {
   "cell_type": "markdown",
   "metadata": {},
   "source": [
    "## Funciones lambda"
   ]
  },
  {
   "cell_type": "markdown",
   "metadata": {},
   "source": [
    "Las funciones lambda son funciones anónimas y pequeñas que se definen utilizando la palabra clave `lambda`. Se utilizan principalmente para operaciones simples y rápidas."
   ]
  },
  {
   "cell_type": "markdown",
   "metadata": {},
   "source": [
    "```python\n",
    "lambda argumentos: expresión\n",
    "```"
   ]
  },
  {
   "cell_type": "code",
   "execution_count": 6,
   "metadata": {},
   "outputs": [
    {
     "name": "stdout",
     "output_type": "stream",
     "text": [
      "8\n"
     ]
    }
   ],
   "source": [
    "# suma es una función lambda que recibe dos parámetros a y b, y devuelve su suma.\n",
    "# Definición de una función lambda\n",
    "suma = lambda a, b: a + b\n",
    "\n",
    "# Llamada a la función lambda\n",
    "resultado = suma(3, 5)\n",
    "print(resultado)"
   ]
  },
  {
   "cell_type": "markdown",
   "metadata": {},
   "source": [
    "## Tarea"
   ]
  },
  {
   "cell_type": "markdown",
   "metadata": {},
   "source": [
    "### 1. Contador de vocales\n",
    "\n",
    "Escribe una función llamada `contar_vocales` que tome una frase introducida por el usuario y cuente cuántas veces aparece cada vocal (a, e, i, o, u). Utiliza un diccionario para almacenar el conteo de cada vocal.\n",
    "\n",
    "🎁 **Bonus** 🎁\n",
    "\n",
    "* Modifica el programa para que cuente las vocales tanto mayúsculas como minúsculas (es decir, 'a' y 'A' se cuentan juntas).\n",
    "* Haz que el programa ignore cualquier carácter que no sea una vocal.\n",
    "\n",
    "```python\n",
    "Ingrese una frase: \"Hola, Mundo\"\n",
    "\n",
    "Conteo de vocales: {'a': 1, 'e': 0, 'i': 0, 'o': 2, 'u': 1}\n",
    "```"
   ]
  },
  {
   "cell_type": "markdown",
   "metadata": {},
   "source": [
    "### 2. Multiplicador de elementos\n",
    "\n",
    "Escribe una función llamada `multiplicar_lista` que reciba una lista de números y un número entero multiplicador. La función debe devolver una nueva lista donde cada elemento de la lista original se multiplica por el número proporcionado.\n",
    "\n",
    "🎁 **Bonus** 🎁\n",
    "\n",
    "Agrega una comprobación para que si el usuario ingresa algo que no sea un número en la lista, el programa lo ignore y siga con los números válidos.\n",
    "\n",
    "```python\n",
    "Ingrese una lista de números: [1, 2, 3, 4]\n",
    "Ingrese un multiplicador: 3\n",
    "\n",
    "Resultado: [3, 6, 9, 12]\n",
    "```\n"
   ]
  },
  {
   "cell_type": "markdown",
   "metadata": {},
   "source": [
    "### 3. Verificación de palíndromos\n",
    "\n",
    "Escribe una función llamada `es_palindromo` que determine si una palabra o frase es un palíndromo. Un palíndromo es una palabra o frase que se lee igual de izquierda a derecha que de derecha a izquierda, ignorando espacios y mayúsculas.\n",
    "\n",
    "🎁 **Bonus** 🎁\n",
    "\n",
    "Permite que el programa también ignore signos de puntuación.\n",
    "\n",
    "```python\n",
    "Ingrese una palabra o frase: \"Anita lava la tina\"\n",
    "\n",
    "Resultado: True\n",
    "```"
   ]
  },
  {
   "cell_type": "markdown",
   "metadata": {},
   "source": [
    "### 4. Generador de números pares\n",
    "\n",
    "Escribe una función llamada `generar_pares` que reciba un número entero positivo y genere una lista con todos los números pares desde 0 hasta ese número (inclusive).\n",
    "\n",
    "🎁 **Bonus** 🎁\n",
    "\n",
    "Modifica la función para que devuelva los números pares en orden descendente.\n",
    "\n",
    "```python\n",
    "Ingrese un número entero positivo: 10\n",
    "\n",
    "Resultado: [0, 2, 4, 6, 8, 10]\n",
    "```"
   ]
  },
  {
   "cell_type": "markdown",
   "metadata": {},
   "source": [
    "### 5. Calculadora de promedio\n",
    "\n",
    "Escribe una función llamada `calcular_promedio` que reciba una lista de números y devuelva el promedio de estos números. Si la lista está vacía, la función debe devolver 0.\n",
    "\n",
    "🎁 **Bonus** 🎁\n",
    "\n",
    "Modifica la función para que ignore los valores que no son números en la lista, y solo calcule el promedio de los valores numéricos.\n",
    "\n",
    "```python\n",
    "Ingrese una lista de números: [10, 20, \"treinta\", 40]\n",
    "\n",
    "Promedio: 23.33\n",
    "```"
   ]
  },
  {
   "cell_type": "markdown",
   "metadata": {},
   "source": []
  }
 ],
 "metadata": {
  "kernelspec": {
   "display_name": "Python 3",
   "language": "python",
   "name": "python3"
  },
  "language_info": {
   "codemirror_mode": {
    "name": "ipython",
    "version": 3
   },
   "file_extension": ".py",
   "mimetype": "text/x-python",
   "name": "python",
   "nbconvert_exporter": "python",
   "pygments_lexer": "ipython3",
   "version": "3.9.6"
  }
 },
 "nbformat": 4,
 "nbformat_minor": 2
}
