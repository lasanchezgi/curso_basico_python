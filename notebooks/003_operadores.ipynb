{
 "cells": [
  {
   "cell_type": "markdown",
   "metadata": {},
   "source": [
    "# 💻🐍 | Curso de python para principiantes"
   ]
  },
  {
   "cell_type": "markdown",
   "metadata": {},
   "source": [
    "## Operadores aritmétricos"
   ]
  },
  {
   "cell_type": "markdown",
   "metadata": {},
   "source": [
    "En Python, puedes realizar varias operaciones aritméticas utilizando operadores aritméticos. Aquí están las operaciones aritméticas básicas:"
   ]
  },
  {
   "cell_type": "markdown",
   "metadata": {},
   "source": [
    "### Suma"
   ]
  },
  {
   "cell_type": "code",
   "execution_count": 1,
   "metadata": {},
   "outputs": [
    {
     "name": "stdout",
     "output_type": "stream",
     "text": [
      "11\n"
     ]
    }
   ],
   "source": [
    "suma = 5 + 6\n",
    "print(suma)"
   ]
  },
  {
   "cell_type": "markdown",
   "metadata": {},
   "source": [
    "### Resta"
   ]
  },
  {
   "cell_type": "code",
   "execution_count": 2,
   "metadata": {},
   "outputs": [
    {
     "name": "stdout",
     "output_type": "stream",
     "text": [
      "-1\n"
     ]
    }
   ],
   "source": [
    "resta = 5 - 6\n",
    "print(resta)"
   ]
  },
  {
   "cell_type": "markdown",
   "metadata": {},
   "source": [
    "### Multiplicación"
   ]
  },
  {
   "cell_type": "code",
   "execution_count": 3,
   "metadata": {},
   "outputs": [
    {
     "name": "stdout",
     "output_type": "stream",
     "text": [
      "30\n"
     ]
    }
   ],
   "source": [
    "multiplicacion = 5 * 6\n",
    "print(multiplicacion)"
   ]
  },
  {
   "cell_type": "markdown",
   "metadata": {},
   "source": [
    "### División"
   ]
  },
  {
   "cell_type": "code",
   "execution_count": 4,
   "metadata": {},
   "outputs": [
    {
     "name": "stdout",
     "output_type": "stream",
     "text": [
      "0.8333333333333334\n"
     ]
    }
   ],
   "source": [
    "division = 5 / 6\n",
    "print(division)"
   ]
  },
  {
   "cell_type": "markdown",
   "metadata": {},
   "source": [
    "### División entera"
   ]
  },
  {
   "cell_type": "code",
   "execution_count": 5,
   "metadata": {},
   "outputs": [
    {
     "name": "stdout",
     "output_type": "stream",
     "text": [
      "0\n"
     ]
    }
   ],
   "source": [
    "division_entera = 5 // 6\n",
    "print(division_entera)"
   ]
  },
  {
   "cell_type": "markdown",
   "metadata": {},
   "source": [
    "### Módulo"
   ]
  },
  {
   "cell_type": "code",
   "execution_count": 6,
   "metadata": {},
   "outputs": [
    {
     "name": "stdout",
     "output_type": "stream",
     "text": [
      "5\n"
     ]
    }
   ],
   "source": [
    "modulo = 5 % 6\n",
    "print(modulo)"
   ]
  },
  {
   "cell_type": "markdown",
   "metadata": {},
   "source": [
    "### Exponenciación"
   ]
  },
  {
   "cell_type": "code",
   "execution_count": 7,
   "metadata": {},
   "outputs": [
    {
     "name": "stdout",
     "output_type": "stream",
     "text": [
      "15625\n"
     ]
    }
   ],
   "source": [
    "exponenciacion = 5**6\n",
    "print(exponenciacion)"
   ]
  },
  {
   "cell_type": "markdown",
   "metadata": {},
   "source": [
    "## Operadores de asignación"
   ]
  },
  {
   "cell_type": "markdown",
   "metadata": {},
   "source": [
    "En Python, los operadores de asignación se utilizan para asignar valores a las variables."
   ]
  },
  {
   "cell_type": "code",
   "execution_count": 8,
   "metadata": {},
   "outputs": [
    {
     "name": "stdout",
     "output_type": "stream",
     "text": [
      "x += 3: 8\n",
      "x -= 2: 6\n",
      "x *= 2: 12\n",
      "x /= 4: 3.0\n",
      "x //= 2: 1.0\n",
      "x %= 2: 1.0\n",
      "x **= 3: 1.0\n"
     ]
    }
   ],
   "source": [
    "x = 5\n",
    "\n",
    "x += 3  # Equivalente a x = x + 3\n",
    "print(\"x += 3:\", x)\n",
    "\n",
    "x -= 2  # Equivalente a x = x - 2\n",
    "print(\"x -= 2:\", x)\n",
    "\n",
    "x *= 2  # Equivalente a x = x * 2\n",
    "print(\"x *= 2:\", x)\n",
    "\n",
    "x /= 4  # Equivalente a x = x / 4\n",
    "print(\"x /= 4:\", x)\n",
    "\n",
    "x //= 2  # Equivalente a x = x // 2\n",
    "print(\"x //= 2:\", x)\n",
    "\n",
    "x %= 2  # Equivalente a x = x % 2\n",
    "print(\"x %= 2:\", x)\n",
    "\n",
    "x **= 3  # Equivalente a x = x ** 3\n",
    "print(\"x **= 3:\", x)"
   ]
  },
  {
   "cell_type": "markdown",
   "metadata": {},
   "source": [
    "## Operadores relacionales"
   ]
  },
  {
   "cell_type": "markdown",
   "metadata": {},
   "source": [
    "En Python, los operadores relacionales (también conocidos como operadores de comparación) se utilizan para comparar dos valores. Estos operadores devuelven un valor booleano (`True` o `False`) basado en la comparación. "
   ]
  },
  {
   "cell_type": "code",
   "execution_count": 9,
   "metadata": {},
   "outputs": [
    {
     "name": "stdout",
     "output_type": "stream",
     "text": [
      "10 == 20: False\n",
      "10 != 20: True\n",
      "10 > 20: False\n",
      "10 < 20: True\n",
      "10 >= 20: False\n",
      "10 <= 20: True\n"
     ]
    }
   ],
   "source": [
    "a = 10\n",
    "b = 20\n",
    "\n",
    "# Igual a\n",
    "print(f\"{a} == {b}: {a == b}\")\n",
    "\n",
    "# Distinto de\n",
    "print(f\"{a} != {b}: {a != b}\")\n",
    "\n",
    "# Mayor que\n",
    "print(f\"{a} > {b}: {a > b}\")\n",
    "\n",
    "# Menor que\n",
    "print(f\"{a} < {b}: {a < b}\")\n",
    "\n",
    "# Mayor o igual que\n",
    "print(f\"{a} >= {b}: {a >= b}\")\n",
    "\n",
    "# Menor o igual que\n",
    "print(f\"{a} <= {b}: {a <= b}\")"
   ]
  },
  {
   "cell_type": "markdown",
   "metadata": {},
   "source": [
    "## Operadores lógicos"
   ]
  },
  {
   "cell_type": "markdown",
   "metadata": {},
   "source": [
    "Los operadores lógicos en Python se utilizan para combinar expresiones booleanas."
   ]
  },
  {
   "cell_type": "markdown",
   "metadata": {},
   "source": [
    "- **AND** (`and`): Devuelve `True` si ambas expresiones son `True`.\n",
    "- **OR** (`or`): Devuelve `True` si al menos una de las expresiones es `True`.\n",
    "- **NOT** (`not`): Devuelve `True` si la expresión es `False`, y viceversa."
   ]
  },
  {
   "cell_type": "code",
   "execution_count": 10,
   "metadata": {},
   "outputs": [
    {
     "name": "stdout",
     "output_type": "stream",
     "text": [
      "x AND y: False\n",
      "x OR y: True\n",
      "NOT x: False\n",
      "NOT y: True\n"
     ]
    }
   ],
   "source": [
    "x = True\n",
    "y = False\n",
    "\n",
    "# AND\n",
    "print(f\"x AND y: {x and y}\")\n",
    "\n",
    "# OR\n",
    "print(f\"x OR y: {x or y}\")\n",
    "\n",
    "# NOT\n",
    "print(f\"NOT x: {not x}\")\n",
    "print(f\"NOT y: {not y}\")"
   ]
  },
  {
   "cell_type": "code",
   "execution_count": 11,
   "metadata": {},
   "outputs": [
    {
     "name": "stdout",
     "output_type": "stream",
     "text": [
      "5 > 3 and 8 > 5: True\n",
      "5 < 3 or 8 > 5: True\n",
      "not (5 == 3): True\n"
     ]
    }
   ],
   "source": [
    "a = 5\n",
    "b = 3\n",
    "c = 8\n",
    "\n",
    "# Combinación de operadores relacionales y lógicos\n",
    "resultado = (a > b) and (c > a)\n",
    "print(f\"{a} > {b} and {c} > {a}: {resultado}\")\n",
    "\n",
    "resultado = (a < b) or (c > a)\n",
    "print(f\"{a} < {b} or {c} > {a}: {resultado}\")\n",
    "\n",
    "resultado = not (a == b)\n",
    "print(f\"not ({a} == {b}): {resultado}\")"
   ]
  },
  {
   "cell_type": "markdown",
   "metadata": {},
   "source": [
    "## Manipulación de texto"
   ]
  },
  {
   "cell_type": "markdown",
   "metadata": {},
   "source": [
    "### Concatenar texto"
   ]
  },
  {
   "cell_type": "code",
   "execution_count": 12,
   "metadata": {},
   "outputs": [
    {
     "name": "stdout",
     "output_type": "stream",
     "text": [
      "Python es genial\n"
     ]
    }
   ],
   "source": [
    "lenguaje = \"Python\"\n",
    "frase = \"es genial\"\n",
    "resultado = lenguaje + \" \" + frase\n",
    "print(resultado)"
   ]
  },
  {
   "cell_type": "markdown",
   "metadata": {},
   "source": [
    "### Repetir cadenas"
   ]
  },
  {
   "cell_type": "code",
   "execution_count": 13,
   "metadata": {},
   "outputs": [
    {
     "name": "stdout",
     "output_type": "stream",
     "text": [
      "HolaHolaHola\n"
     ]
    }
   ],
   "source": [
    "palabra = \"Hola\"\n",
    "resultado = palabra * 3\n",
    "print(resultado)"
   ]
  },
  {
   "cell_type": "markdown",
   "metadata": {},
   "source": [
    "### Interpolación"
   ]
  },
  {
   "cell_type": "code",
   "execution_count": 14,
   "metadata": {},
   "outputs": [
    {
     "name": "stdout",
     "output_type": "stream",
     "text": [
      "Hola, me llamo Ana y tengo 35 años\n"
     ]
    }
   ],
   "source": [
    "nombre = \"Ana\"\n",
    "edad = 35\n",
    "print(f\"Hola, me llamo {nombre} y tengo {edad} años\")"
   ]
  },
  {
   "cell_type": "markdown",
   "metadata": {},
   "source": [
    "### Transformar cadenas"
   ]
  },
  {
   "cell_type": "code",
   "execution_count": 15,
   "metadata": {},
   "outputs": [
    {
     "name": "stdout",
     "output_type": "stream",
     "text": [
      "APRENDER PYTHON ES FÁCIL Y EMOCIONANTE\n",
      "aprender python es fácil y emocionante\n",
      "Aprender python es fácil y emocionante\n",
      "Aprender Python Es Fácil Y Emocionante\n"
     ]
    }
   ],
   "source": [
    "# Transformaar cadenas\n",
    "texto = \"Aprender Python es fácil y emocionante\"\n",
    "# Convertir a mayúsculas\n",
    "print(texto.upper())\n",
    "# Convertir a minúsculas\n",
    "print(texto.lower())\n",
    "# Convertir la primera letra a mayúsculas\n",
    "print(texto.capitalize())\n",
    "# Convertir la primera letra de cada palabra a mayúsculas\n",
    "print(texto.title())"
   ]
  },
  {
   "cell_type": "markdown",
   "metadata": {},
   "source": [
    "## Tarea"
   ]
  },
  {
   "cell_type": "markdown",
   "metadata": {},
   "source": [
    "### Investiga"
   ]
  },
  {
   "cell_type": "markdown",
   "metadata": {},
   "source": [
    "La función `input()` es una herramienta importante en Python. Investiga y busca al menos tres aplicaciones diferentes de esta función en la creación de programas."
   ]
  },
  {
   "cell_type": "markdown",
   "metadata": {},
   "source": [
    "### Practica"
   ]
  },
  {
   "cell_type": "markdown",
   "metadata": {},
   "source": [
    "##### 1. Calculadora simple\n",
    "\n",
    "Crea un programa que le pida al usuario dos números enteros y luego muestre el resultado de sumarlos, restarlos, multiplicarlos y dividir el primero entre el segundo.\n",
    "\n",
    "🎁 Bonus 🎁\n",
    "\n",
    "* Agrega una validación para evitar la división por cero\n",
    "* Muestra los resultados de las operaciones con un mensaje claro para el usuario\n",
    "\n",
    "```python\n",
    "Ingrese el primer número: 8\n",
    "Ingrese el segundo número: 4\n",
    "\n",
    "Suma: 12\n",
    "Resta: 4\n",
    "Multiplicación: 32\n",
    "División: 2.0\n",
    "```\n",
    "\n",
    "\n"
   ]
  },
  {
   "cell_type": "markdown",
   "metadata": {},
   "source": [
    "##### 2. Área y perímetro de un rectángulo\n",
    "\n",
    "Escribe un programa que le pida al usuario las dimensiones de un rectángulo (ancho y alto) y luego calcule y muestre su área y perímetro.\n",
    "\n",
    "🎁 Bonus 🎁\n",
    "\n",
    "Asegúrate de que el programa funcione correctamente si se ingresan números decimales.\n",
    "\n",
    "```python\n",
    "Ingrese el ancho del rectángulo: 5\n",
    "Ingrese la altura del rectángulo: 3\n",
    "\n",
    "Área: 15\n",
    "Perímetro: 16\n",
    "```\n",
    "\n"
   ]
  },
  {
   "cell_type": "markdown",
   "metadata": {},
   "source": [
    "##### 3. Manipulación de texto\n",
    "\n",
    "Crea un programa que le pida al usuario su nombre y su edad, y luego genere un mensaje personalizado que diga: \"Hola, [nombre], tienes [edad] años.\".\n",
    "\n",
    "🎁 Bonus 🎁\n",
    "\n",
    "Haz que el programa también le pida al usuario su ciudad de origen y lo incluya en el mensaje.\n",
    "\n",
    "```python\n",
    "Ingrese su nombre: Ana\n",
    "Ingrese su edad: 35\n",
    "Ingrese su ciudad de origen: Bogotá\n",
    "\n",
    "Hola, Ana, tienes 35 años y eres de Bogotá.\n",
    "```"
   ]
  },
  {
   "cell_type": "markdown",
   "metadata": {},
   "source": [
    "##### 4. Formateo de frases\n",
    "Escribe un programa que le pida al usuario una frase y luego muestre:\n",
    "- La frase en mayúsculas.\n",
    "- La frase en minúsculas.\n",
    "- La cantidad de caracteres en la frase.\n",
    "\n",
    "🎁 Bonus 🎁\n",
    "\n",
    "Cuenta y muestra cuántas veces aparece una letra específica que el usuario también debe ingresar.\n",
    "\n",
    "```python\n",
    "Ingrese una frase: Programar en Python es divertido\n",
    "Ingrese una letra para contar: o\n",
    "\n",
    "Frase en mayúsculas: PROGRAMAR EN PYTHON ES DIVERTIDO\n",
    "Frase en minúsculas: programar en python es divertido\n",
    "Número de caracteres: 29\n",
    "La letra 'o' aparece 3 veces.\n",
    "```"
   ]
  },
  {
   "cell_type": "markdown",
   "metadata": {},
   "source": [
    "##### 5. Calculadora de propinas\n",
    "Crea un programa que le pida al usuario el total de la cuenta en un restaurante y el porcentaje de propina que desea dejar. Calcula y muestra la propina y el total a pagar (cuenta + propina).\n",
    "\n",
    "🎁 Bonus 🎁\n",
    "\n",
    "Asegúrate de que el programa maneje correctamente los números decimales.\n",
    "\n",
    "```python\n",
    "Ingrese el total de la cuenta: 50.75\n",
    "Ingrese el porcentaje de propina que desea dejar: 15\n",
    "\n",
    "Propina: 7.61\n",
    "Total a pagar: 58.36\n",
    "```\n",
    "\n"
   ]
  }
 ],
 "metadata": {
  "kernelspec": {
   "display_name": "Python 3",
   "language": "python",
   "name": "python3"
  },
  "language_info": {
   "codemirror_mode": {
    "name": "ipython",
    "version": 3
   },
   "file_extension": ".py",
   "mimetype": "text/x-python",
   "name": "python",
   "nbconvert_exporter": "python",
   "pygments_lexer": "ipython3",
   "version": "3.9.6"
  }
 },
 "nbformat": 4,
 "nbformat_minor": 2
}
