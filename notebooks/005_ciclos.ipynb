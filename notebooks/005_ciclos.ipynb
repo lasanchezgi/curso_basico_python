{
 "cells": [
  {
   "cell_type": "markdown",
   "metadata": {},
   "source": [
    "# 💻🐍 | Curso de python para principiantes"
   ]
  },
  {
   "cell_type": "markdown",
   "metadata": {},
   "source": [
    "## Ciclos"
   ]
  },
  {
   "cell_type": "markdown",
   "metadata": {},
   "source": [
    "En Python, los ciclos (o bucles) son estructuras de control de flujo que permiten ejecutar un bloque de código repetidamente mientras se cumpla una condición específica. Los dos tipos principales de ciclos en Python son `for` y `while`."
   ]
  },
  {
   "cell_type": "markdown",
   "metadata": {},
   "source": [
    "### Ciclo `for`"
   ]
  },
  {
   "cell_type": "markdown",
   "metadata": {},
   "source": [
    "El ciclo `for` se utiliza para iterar sobre una secuencia (como una lista, tupla, cadena o rango) y ejecutar un bloque de código para cada elemento de la secuencia."
   ]
  },
  {
   "cell_type": "markdown",
   "metadata": {},
   "source": [
    "```python\n",
    "for elemento in secuencia:\n",
    "    # Bloque de código a ejecutar para cada elemento\n",
    "```"
   ]
  },
  {
   "cell_type": "code",
   "execution_count": 1,
   "metadata": {},
   "outputs": [
    {
     "name": "stdout",
     "output_type": "stream",
     "text": [
      "1\n",
      "2\n",
      "3\n",
      "4\n",
      "5\n"
     ]
    }
   ],
   "source": [
    "numeros = [1, 2, 3, 4, 5]\n",
    "\n",
    "for numero in numeros:\n",
    "    print(numero)"
   ]
  },
  {
   "cell_type": "code",
   "execution_count": 2,
   "metadata": {},
   "outputs": [
    {
     "name": "stdout",
     "output_type": "stream",
     "text": [
      "manzana\n",
      "banana\n",
      "cereza\n"
     ]
    }
   ],
   "source": [
    "frutas = ['manzana', 'banana', 'cereza']\n",
    "for fruta in frutas:\n",
    "    print(fruta)"
   ]
  },
  {
   "cell_type": "code",
   "execution_count": 3,
   "metadata": {},
   "outputs": [
    {
     "name": "stdout",
     "output_type": "stream",
     "text": [
      "0\n",
      "1\n",
      "2\n",
      "3\n",
      "4\n"
     ]
    }
   ],
   "source": [
    "for numero in range(5):\n",
    "    print(numero) "
   ]
  },
  {
   "cell_type": "markdown",
   "metadata": {},
   "source": [
    "### Ciclo `while`"
   ]
  },
  {
   "cell_type": "markdown",
   "metadata": {},
   "source": [
    "El ciclo `while` se utiliza para ejecutar un bloque de código repetidamente mientras una condición sea verdadera.\n",
    "\n"
   ]
  },
  {
   "cell_type": "markdown",
   "metadata": {},
   "source": [
    "```python\n",
    "while condición:\n",
    "    # Bloque de código a ejecutar mientras la condición sea verdadera\n",
    "```"
   ]
  },
  {
   "cell_type": "code",
   "execution_count": 4,
   "metadata": {},
   "outputs": [
    {
     "name": "stdout",
     "output_type": "stream",
     "text": [
      "0\n",
      "1\n",
      "2\n",
      "3\n",
      "4\n"
     ]
    }
   ],
   "source": [
    "contador = 0\n",
    "\n",
    "while contador < 5:\n",
    "    print(contador)\n",
    "    contador += 1"
   ]
  },
  {
   "cell_type": "markdown",
   "metadata": {},
   "source": [
    "### Control de ciclos"
   ]
  },
  {
   "cell_type": "markdown",
   "metadata": {},
   "source": [
    "La instrucción `break` se utiliza para salir de un ciclo antes de que se complete todas las iteraciones."
   ]
  },
  {
   "cell_type": "code",
   "execution_count": 5,
   "metadata": {},
   "outputs": [
    {
     "name": "stdout",
     "output_type": "stream",
     "text": [
      "0\n",
      "1\n",
      "2\n",
      "3\n",
      "4\n"
     ]
    }
   ],
   "source": [
    "# En este ejemplo, el ciclo for se detendrá cuando i sea igual a 5.\n",
    "for i in range(10):\n",
    "    if i == 5:\n",
    "        break\n",
    "    print(i)"
   ]
  },
  {
   "cell_type": "markdown",
   "metadata": {},
   "source": [
    "La instrucción `continue` se utiliza para saltar a la siguiente iteración del ciclo, omitiendo el resto del bloque de código en la iteración actual.\n",
    "\n"
   ]
  },
  {
   "cell_type": "code",
   "execution_count": 6,
   "metadata": {},
   "outputs": [
    {
     "name": "stdout",
     "output_type": "stream",
     "text": [
      "1\n",
      "3\n",
      "5\n",
      "7\n",
      "9\n"
     ]
    }
   ],
   "source": [
    "# En este ejemplo, el ciclo for imprimirá solo los números impares, \n",
    "# ya que continue hará que se salten las iteraciones donde i es par.\n",
    "for i in range(10):\n",
    "    if i % 2 == 0:\n",
    "        continue\n",
    "    print(i)"
   ]
  },
  {
   "cell_type": "markdown",
   "metadata": {},
   "source": [
    "## Ciclos anidados"
   ]
  },
  {
   "cell_type": "markdown",
   "metadata": {},
   "source": [
    "Se puede anidar ciclos dentro de otros ciclos para iterar sobre estructuras de datos más complejas."
   ]
  },
  {
   "cell_type": "code",
   "execution_count": 7,
   "metadata": {},
   "outputs": [
    {
     "name": "stdout",
     "output_type": "stream",
     "text": [
      "i = 0, j = 0\n",
      "i = 0, j = 1\n",
      "i = 1, j = 0\n",
      "i = 1, j = 1\n",
      "i = 2, j = 0\n",
      "i = 2, j = 1\n"
     ]
    }
   ],
   "source": [
    "# En este ejemplo, el ciclo interno se ejecutará completamente para cada iteración del ciclo externo.\n",
    "\n",
    "for i in range(3):\n",
    "    for j in range(2):\n",
    "        print(f\"i = {i}, j = {j}\")"
   ]
  },
  {
   "cell_type": "markdown",
   "metadata": {},
   "source": [
    "## Tarea"
   ]
  },
  {
   "cell_type": "markdown",
   "metadata": {},
   "source": [
    "### Investiga: ¿Qué son las funciones en Python?"
   ]
  },
  {
   "cell_type": "markdown",
   "metadata": {},
   "source": [
    "### 1. Utiliza un ciclo for para imprimir cada número del 1 al 10."
   ]
  },
  {
   "cell_type": "markdown",
   "metadata": {},
   "source": [
    "### 2. Usa un ciclo while para contar hacia atrás desde 10 hasta 1.\n"
   ]
  },
  {
   "cell_type": "markdown",
   "metadata": {},
   "source": [
    "### 3. Crea un programa que recorra una lista de números y use break para detenerse si encuentra un número negativo."
   ]
  },
  {
   "cell_type": "markdown",
   "metadata": {},
   "source": [
    "### 4. Contador de vocales\n",
    "\n",
    "Escribe un programa que tome una frase introducida por el usuario y cuente cuántas veces aparece cada vocal (a, e, i, o, u). Utiliza un diccionario para almacenar el conteo de cada vocal.\n",
    "\n",
    "🎁 Bonus 🎁\n",
    "\n",
    "* Modifica el programa para que cuente las vocales tanto mayúsculas como minúsculas (es decir, 'a' y 'A' se cuentan juntas).\n",
    "* Haz que el programa ignore cualquier carácter que no sea una vocal.\n",
    "\n",
    "```python\n",
    "Ingrese una frase: \"Hola, Mundo\"\n",
    "\n",
    "Conteo de vocales: {'a': 1, 'e': 0, 'i': 0, 'o': 2, 'u': 1}\n",
    "```\n"
   ]
  },
  {
   "cell_type": "markdown",
   "metadata": {},
   "source": [
    "### 5. Calculadora de promedio\n",
    "\n",
    "Crea un programa que pida al usuario ingresar números uno por uno y almacénelos en una lista. Cuando el usuario ingrese \"fin\", el programa debe calcular e imprimir el promedio de los números ingresados.\n",
    "\n",
    "🎁 Bonus 🎁\n",
    "\n",
    "* Maneja la entrada del usuario para asegurarte de que solo se ingresen números válidos.\n",
    "* Modifica el programa para que, además del promedio, imprima el número más grande y el más pequeño ingresado.\n",
    "\n",
    "```python\n",
    "Ingrese un número (o 'fin' para terminar): 5\n",
    "Ingrese un número (o 'fin' para terminar): 8\n",
    "Ingrese un número (o 'fin' para terminar): 10\n",
    "Ingrese un número (o 'fin' para terminar): fin\n",
    "\n",
    "Promedio: 7.666666666666667\n",
    "Número más grande: 10\n",
    "Número más pequeño: 5\n",
    "```"
   ]
  },
  {
   "cell_type": "markdown",
   "metadata": {},
   "source": [
    "### 6. Generador de números pares\n",
    "\n",
    "Escribe un programa que genere todos los números pares entre 1 y un número máximo especificado por el usuario. Los números deben almacenarse en una lista y luego imprimirse.\n",
    "\n",
    "🎁 Bonus 🎁\n",
    "\n",
    "* Modifica el programa para que, además de imprimir los números pares, calcule la suma total de esos números.\n",
    "* Cambia el programa para que genere y almacene en una lista los números impares en lugar de los pares.\n",
    "\n",
    "```python\n",
    "Ingrese el número máximo: 10\n",
    "\n",
    "Números pares: [2, 4, 6, 8, 10]\n",
    "\n",
    "Suma total de números pares: 30\n",
    "```\n"
   ]
  },
  {
   "cell_type": "markdown",
   "metadata": {},
   "source": [
    "### 7. Inventario de productos\n",
    "\n",
    "Imagina que tienes una tienda y necesitas llevar un inventario de tus productos. Escribe un programa que permita al usuario agregar productos a un diccionario, donde la clave es el nombre del producto y el valor es la cantidad en stock. Luego, muestra el inventario completo.\n",
    "\n",
    "🎁 Bonus 🎁\n",
    "\n",
    "* Añade una opción para eliminar productos del inventario.\n",
    "* Agrega una funcionalidad para actualizar la cantidad de un producto existente.\n",
    "\n",
    "```python\n",
    "Ingrese el nombre del producto (o 'fin' para terminar): manzanas\n",
    "Ingrese la cantidad de manzanas: 10\n",
    "\n",
    "Ingrese el nombre del producto (o 'fin' para terminar): naranjas\n",
    "Ingrese la cantidad de naranjas: 5\n",
    "\n",
    "Ingrese el nombre del producto (o 'fin' para terminar): fin\n",
    "\n",
    "Inventario:\n",
    "\n",
    "manzanas: 10\n",
    "naranjas: 5\n",
    "```\n"
   ]
  },
  {
   "cell_type": "markdown",
   "metadata": {},
   "source": [
    "### 8. Tablas de multiplicar\n",
    "\n",
    "Crea un programa que genere la tabla de multiplicar de un número dado por el usuario usando un ciclo `for`. El programa debe mostrar los resultados en el formato \"número x multiplicador = resultado\".\n",
    "\n",
    "🎁 Bonus 🎁\n",
    "\n",
    "* Modifica el programa para que genere tablas de multiplicar desde el 1 hasta un número máximo dado por el usuario.\n",
    "* Haz que el programa utilice un ciclo `while` en lugar de un ciclo `for` para generar la tabla de multiplicar.\n",
    "\n",
    "```python\n",
    "Ingrese el número para generar la tabla de multiplicar: 5\n",
    "Ingrese hasta qué número desea multiplicar: 10\n",
    "\n",
    "Tabla de multiplicar del 5:\n",
    "5 x 1 = 5\n",
    "5 x 2 = 10\n",
    "5 x 3 = 15\n",
    "5 x 4 = 20\n",
    "5 x 5 = 25\n",
    "5 x 6 = 30\n",
    "5 x 7 = 35\n",
    "5 x 8 = 40\n",
    "5 x 9 = 45\n",
    "5 x 10 = 50\n",
    "```"
   ]
  }
 ],
 "metadata": {
  "kernelspec": {
   "display_name": "Python 3",
   "language": "python",
   "name": "python3"
  },
  "language_info": {
   "codemirror_mode": {
    "name": "ipython",
    "version": 3
   },
   "file_extension": ".py",
   "mimetype": "text/x-python",
   "name": "python",
   "nbconvert_exporter": "python",
   "pygments_lexer": "ipython3",
   "version": "3.9.6"
  }
 },
 "nbformat": 4,
 "nbformat_minor": 2
}
