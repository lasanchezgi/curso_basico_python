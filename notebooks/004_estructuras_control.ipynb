{
 "cells": [
  {
   "cell_type": "markdown",
   "metadata": {},
   "source": [
    "# 💻🐍 | Curso de python para principiantes"
   ]
  },
  {
   "cell_type": "markdown",
   "metadata": {},
   "source": [
    "## Condicional `if`"
   ]
  },
  {
   "cell_type": "markdown",
   "metadata": {},
   "source": [
    "El condicional `if` en Python se utiliza para ejecutar un bloque de código solo si se cumple una condición específica. Es una estructura de control de flujo que permite tomar decisiones en el programa basadas en condiciones booleanas (`True` o `False`)."
   ]
  },
  {
   "cell_type": "markdown",
   "metadata": {},
   "source": [
    "```python\n",
    "if condición:\n",
    "    # Bloque de código a ejecutar si la condición es verdadera\n",
    "```"
   ]
  },
  {
   "cell_type": "code",
   "execution_count": 1,
   "metadata": {},
   "outputs": [
    {
     "name": "stdout",
     "output_type": "stream",
     "text": [
      "Eres mayor de edad\n"
     ]
    }
   ],
   "source": [
    "edad = 18\n",
    "if edad >= 18:\n",
    "    print('Eres mayor de edad')"
   ]
  },
  {
   "cell_type": "markdown",
   "metadata": {},
   "source": [
    "### Sentencia `if ... else`"
   ]
  },
  {
   "cell_type": "markdown",
   "metadata": {},
   "source": [
    "Permite ejecutar un bloque de código si una condición es verdadera y otro bloque si es falsa."
   ]
  },
  {
   "cell_type": "markdown",
   "metadata": {},
   "source": [
    "```python\n",
    "Si se_cumple_esta_condicion:\n",
    "    Ejecutar este grupo de instrucciones\n",
    "Si no:\n",
    "    Ejecutar este otro grupo de instrucciones\n",
    "```\n",
    "\n",
    "```python\n",
    "if condición:\n",
    "    # Bloque de código a ejecutar si la condición es verdadera\n",
    "else:\n",
    "    # Bloque de código a ejecutar si la condición es falsa\n",
    "```"
   ]
  },
  {
   "cell_type": "code",
   "execution_count": 2,
   "metadata": {},
   "outputs": [
    {
     "name": "stdout",
     "output_type": "stream",
     "text": [
      "El color es blanco\n"
     ]
    }
   ],
   "source": [
    "color = 'blanco'\n",
    "\n",
    "if color == 'blanco':\n",
    "    print('El color es blanco')\n",
    "else:\n",
    "    print('El color no es blanco')"
   ]
  },
  {
   "cell_type": "code",
   "execution_count": 3,
   "metadata": {},
   "outputs": [
    {
     "name": "stdout",
     "output_type": "stream",
     "text": [
      "Eres menor de edad.\n"
     ]
    }
   ],
   "source": [
    "edad = 16\n",
    "\n",
    "if edad >= 18:\n",
    "    print(\"Eres mayor de edad.\")\n",
    "else:\n",
    "    print(\"Eres menor de edad.\")"
   ]
  },
  {
   "cell_type": "code",
   "execution_count": 4,
   "metadata": {},
   "outputs": [
    {
     "name": "stdout",
     "output_type": "stream",
     "text": [
      "7 es un número impar\n"
     ]
    }
   ],
   "source": [
    "numero = 7\n",
    "if numero % 2 == 0:\n",
    "    print(f'{numero} es un número par')\n",
    "else:\n",
    "    print(f'{numero} es un número impar')"
   ]
  },
  {
   "cell_type": "code",
   "execution_count": 5,
   "metadata": {},
   "outputs": [
    {
     "name": "stdout",
     "output_type": "stream",
     "text": [
      "Ese no es mi color favorito\n"
     ]
    }
   ],
   "source": [
    "color = input('Adivina cual es mi color favorito: ')\n",
    "\n",
    "if color == 'blanco':\n",
    "    print('Has adivinado mi color favorito')\n",
    "else:\n",
    "    print('Ese no es mi color favorito')"
   ]
  },
  {
   "cell_type": "markdown",
   "metadata": {},
   "source": [
    "#### `if` anidados"
   ]
  },
  {
   "cell_type": "markdown",
   "metadata": {},
   "source": [
    "Se puede anidar condicionales `if` dentro de otros condicionales para verificar condiciones más complejas.\n",
    "\n"
   ]
  },
  {
   "cell_type": "code",
   "execution_count": 6,
   "metadata": {},
   "outputs": [
    {
     "name": "stdout",
     "output_type": "stream",
     "text": [
      "Puedes entrar.\n"
     ]
    }
   ],
   "source": [
    "edad = 20\n",
    "tiene_identificacion = True\n",
    "\n",
    "if edad >= 18:\n",
    "    if tiene_identificacion:\n",
    "        print(\"Puedes entrar.\")\n",
    "    else:\n",
    "        print(\"Necesitas una identificación.\")\n",
    "else:\n",
    "    print(\"Eres menor de edad.\")"
   ]
  },
  {
   "cell_type": "markdown",
   "metadata": {},
   "source": [
    "### Sentencia `if...elif...else`"
   ]
  },
  {
   "cell_type": "markdown",
   "metadata": {},
   "source": [
    "Permite evaluar múltiples condiciones. Es como una escalera: si la primera condición es verdadera, se ejecuta el primer bloque; si no, se pasa a la siguiente condición, y así sucesivamente. Si ninguna condición es verdadera, se ejecuta el bloque else."
   ]
  },
  {
   "cell_type": "markdown",
   "metadata": {},
   "source": [
    "\n",
    "```python\n",
    "if condición1:\n",
    "    # Bloque de código a ejecutar si la condición1 es verdadera\n",
    "elif condición2:\n",
    "    # Bloque de código a ejecutar si la condición2 es verdadera\n",
    "else:\n",
    "    # Bloque de código a ejecutar si ninguna de las condiciones anteriores es verdadera\n",
    "```"
   ]
  },
  {
   "cell_type": "code",
   "execution_count": 7,
   "metadata": {},
   "outputs": [
    {
     "name": "stdout",
     "output_type": "stream",
     "text": [
      "Calificación: S\n"
     ]
    }
   ],
   "source": [
    "nota = 85\n",
    "\n",
    "if nota >= 90:\n",
    "    print('Calificación: E')\n",
    "elif nota >= 80:\n",
    "    print('Calificación: S')\n",
    "elif nota >= 70:\n",
    "    print('Calificación: A')\n",
    "else:\n",
    "    print('Calificación: I o menor')"
   ]
  },
  {
   "cell_type": "code",
   "execution_count": 8,
   "metadata": {},
   "outputs": [
    {
     "name": "stdout",
     "output_type": "stream",
     "text": [
      "Hoy es fin de semana\n"
     ]
    }
   ],
   "source": [
    "dia = int(input('¿Que dia de la semana es hoy? '))\n",
    "\n",
    "if dia == 1:\n",
    "    print('Hoy es lunes')\n",
    "elif dia == 2:\n",
    "    print('Hoy es martes')\n",
    "elif dia == 3:\n",
    "    print('Hoy es miercoles')\n",
    "elif dia == 4:\n",
    "    print('Hoy es jueves')\n",
    "elif dia == 5:\n",
    "    print('Hoy es viernes')\n",
    "else:\n",
    "    print('Hoy es fin de semana')"
   ]
  },
  {
   "cell_type": "markdown",
   "metadata": {},
   "source": [
    "## Tarea"
   ]
  },
  {
   "cell_type": "markdown",
   "metadata": {},
   "source": [
    "### Investiga"
   ]
  },
  {
   "cell_type": "markdown",
   "metadata": {},
   "source": [
    "* ¿Cómo funciona el bucle `for` en Python?\n",
    "* ¿Cómo funciona el bucle `while` en Python?"
   ]
  },
  {
   "cell_type": "markdown",
   "metadata": {},
   "source": [
    "### Practica"
   ]
  },
  {
   "cell_type": "markdown",
   "metadata": {},
   "source": [
    "#### 1. Calculadora de edad\n",
    "\n",
    "Escribe un programa que le pida al usuario su año de nacimiento y el año actual. Luego, calcula su edad y muestra un mensaje indicando si es menor de edad, mayor de edad, o si está en la tercera edad (más de 65 años).\n",
    "\n",
    "🎁 Bonus 🎁\n",
    "\n",
    "* Si el usuario ingresa un año de nacimiento mayor al año actual, muestra un mensaje de error.\n",
    "* Permite que el usuario ingrese su mes de nacimiento para un cálculo más preciso.\n",
    "\n",
    "\n",
    "```python\n",
    "Año de nacimiento: 2005\n",
    "Año actual: 2024\n",
    "\n",
    "Tienes 19 años y eres mayor de edad.\n",
    "```"
   ]
  },
  {
   "cell_type": "markdown",
   "metadata": {},
   "source": [
    "#### 2. Calculadora de descuentos\n",
    "\n",
    "Crea un programa que calcule el precio final de un producto después de aplicar un descuento. El usuario debe ingresar el precio original del producto y el porcentaje de descuento.\n",
    "\n",
    "🎁 Bonus 🎁\n",
    "\n",
    "* Asegúrate de que el descuento no pueda ser mayor que el 100%.\n",
    "* Si el precio final es menor que 20 unidades de la moneda, muestra un mensaje adicional diciendo que es una \"¡Gran oferta!\"\n",
    "\n",
    "```python\n",
    "Precio original: 100\n",
    "Porcentaje de descuento: 25\n",
    "\n",
    "El precio final después del descuento es: 75.0\n",
    "```"
   ]
  },
  {
   "cell_type": "markdown",
   "metadata": {},
   "source": [
    "#### 3. Evaluador de calificaciones\n",
    "\n",
    "Escribe un programa que reciba la calificación de un estudiante (entre 0 y 100) y devuelva una letra que represente su rendimiento: A (90-100), B (80-89), C (70-79), D (60-69), F (menos de 60).\n",
    "\n",
    "\n",
    "🎁 Bonus 🎁\n",
    "\n",
    "* Si la calificación es mayor que 100 o menor que 0, muestra un mensaje de error.\n",
    "* Permite que el usuario ingrese múltiples calificaciones y calcule el promedio antes de determinar la letra correspondiente.\n",
    "\n",
    "```python\n",
    "Introduce la calificación: 85\n",
    "\n",
    "Tu calificación es: B\n",
    "```\n"
   ]
  },
  {
   "cell_type": "markdown",
   "metadata": {},
   "source": [
    "#### 4. Conversor de temperatura\n",
    "\n",
    "Crea un programa que convierta una temperatura dada en grados Celsius a Fahrenheit. Usa la fórmula:\n",
    "\n",
    "$$\n",
    "F = (C * \\frac{9}{5}) + 32\n",
    "$$\n",
    "\n",
    "\n",
    "🎁 Bonus 🎁\n",
    "\n",
    "* Permite que el usuario convierta de Fahrenheit a Celsius.\n",
    "* Asegúrate de que el programa solo acepte números como entrada.\n",
    "\n",
    "```python\n",
    "Introduce la temperatura en Celsius: 25\n",
    "\n",
    "La temperatura en Fahrenheit es: 77.0\n",
    "```\n",
    "\n"
   ]
  },
  {
   "cell_type": "markdown",
   "metadata": {},
   "source": [
    "#### 5. Calculadora de años bisiestos\n",
    "\n",
    "Crea un programa que determine si un año dado por el usuario es bisiesto o no. Un año es bisiesto si es divisible por 4, pero no por 100, excepto si es divisible por 400.\n",
    "\n",
    "\n",
    "🎁 Bonus 🎁\n",
    "\n",
    "* Permite que el usuario ingrese un rango de años y muestra cuáles son bisiestos dentro de ese rango.\n",
    "* Muestra un mensaje de error si el usuario ingresa un año negativo.\n",
    "\n",
    "```python\n",
    "Introduce un año: 2024\n",
    "\n",
    "2024 es un año bisiesto.\n",
    "```"
   ]
  }
 ],
 "metadata": {
  "kernelspec": {
   "display_name": "Python 3",
   "language": "python",
   "name": "python3"
  },
  "language_info": {
   "codemirror_mode": {
    "name": "ipython",
    "version": 3
   },
   "file_extension": ".py",
   "mimetype": "text/x-python",
   "name": "python",
   "nbconvert_exporter": "python",
   "pygments_lexer": "ipython3",
   "version": "3.9.6"
  }
 },
 "nbformat": 4,
 "nbformat_minor": 2
}
