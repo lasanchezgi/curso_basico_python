{
 "cells": [
  {
   "cell_type": "markdown",
   "metadata": {},
   "source": [
    "# 💻🐍 | Curso de python para principiantes"
   ]
  },
  {
   "cell_type": "markdown",
   "metadata": {},
   "source": [
    "## ¿Qué es una variable en Python?"
   ]
  },
  {
   "cell_type": "markdown",
   "metadata": {},
   "source": [
    "En Python, una variable es un nombre que se refiere a un valor almacenado en la memoria. Las variables se utilizan para almacenar datos que pueden ser manipulados y utilizados a lo largo del programa. A diferencia de algunos otros lenguajes de programación, en Python no es necesario declarar el tipo de una variable explícitamente; el tipo se infiere automáticamente en el momento de la asignación."
   ]
  },
  {
   "cell_type": "code",
   "execution_count": 1,
   "metadata": {},
   "outputs": [
    {
     "name": "stdout",
     "output_type": "stream",
     "text": [
      "Soy un texto\n",
      "5\n",
      "5.5\n",
      "True\n"
     ]
    }
   ],
   "source": [
    "# Asignación de variables\n",
    "texto = \"Soy un texto\" # Varible de tipo string\n",
    "entero = 5 # Variable de tipo núnmero entero\n",
    "flotante = 5.5 # Variable de tipo número flotante\n",
    "boleano = True # Variable de tipo boleano\n",
    "\n",
    "# Imprimiendo las variables\n",
    "print(texto)\n",
    "print(entero)\n",
    "print(flotante)\n",
    "print(boleano)"
   ]
  },
  {
   "cell_type": "markdown",
   "metadata": {},
   "source": [
    "Las variables en Python son dinámicamente tipadas, lo que significa que puedes cambiar el tipo de valor que una variable almacena en cualquier momento:"
   ]
  },
  {
   "cell_type": "code",
   "execution_count": 2,
   "metadata": {},
   "outputs": [
    {
     "name": "stdout",
     "output_type": "stream",
     "text": [
      "Diez\n",
      "10\n"
     ]
    }
   ],
   "source": [
    "x = \"Diez\"\n",
    "print(x)\n",
    "\n",
    "x = 10\n",
    "print(x)"
   ]
  },
  {
   "cell_type": "markdown",
   "metadata": {},
   "source": [
    "Recuerda que los nombres de las variables deben comenzar con una letra o un guion bajo `(_)` y pueden contener letras, números y guiones bajos. No pueden comenzar con un número y no deben ser palabras reservadas de Python (como `if`, `else`, `while`, etc.)."
   ]
  },
  {
   "cell_type": "markdown",
   "metadata": {},
   "source": [
    "### ¿Por qué son importantes las variables?"
   ]
  },
  {
   "cell_type": "markdown",
   "metadata": {},
   "source": [
    "* **Almacenamiento de datos:** Sirven para guardar datos de diferentes tipos (números, texto, booleanos, etc.) y poder manipularlos a lo largo del programa.\n",
    "* **Reutilización de datos:** Una vez asignado un valor a una variable, podemos usar ese valor en diferentes partes del código sin tener que volver a escribirlo.\n",
    "* **Legibilidad:** Al asignar nombres descriptivos a las variables, hacemos que el código sea más fácil de entender, tanto para nosotros como para otros programadores.\n",
    "* **Flexibilidad:** Si necesitamos cambiar un valor, solo modficicamos la variable y el cambio se refleja en todo el código donde se use esa variable. "
   ]
  },
  {
   "cell_type": "markdown",
   "metadata": {},
   "source": [
    "## Tipos de datos en Python"
   ]
  },
  {
   "cell_type": "markdown",
   "metadata": {},
   "source": [
    "### None"
   ]
  },
  {
   "cell_type": "markdown",
   "metadata": {},
   "source": [
    "`None` es un valor especial que representa la ausencia de un valor o un valor nulo.\n",
    "\n",
    "Se utiliza comúnmente para indicar que una variable no tiene un valor asignado o para inicializar variables que aún no tienen un valor específico.\n"
   ]
  },
  {
   "cell_type": "code",
   "execution_count": 3,
   "metadata": {},
   "outputs": [
    {
     "name": "stdout",
     "output_type": "stream",
     "text": [
      "None\n",
      "<class 'NoneType'>\n"
     ]
    }
   ],
   "source": [
    "nada = None\n",
    "print(nada)\n",
    "print(type(nada))"
   ]
  },
  {
   "cell_type": "markdown",
   "metadata": {},
   "source": [
    "### Cadena"
   ]
  },
  {
   "cell_type": "markdown",
   "metadata": {},
   "source": [
    "Es una secuencia de caracteres utilizada para representar texto. Las cadenas se definen encerrando el texto entre comillas simples (`'`) o comillas dobles (`\"`). También se pueden usar comillas triples (`'''` o `\"\"\"`) para definir cadenas de múltiples líneas."
   ]
  },
  {
   "cell_type": "code",
   "execution_count": 4,
   "metadata": {},
   "outputs": [
    {
     "name": "stdout",
     "output_type": "stream",
     "text": [
      "Hola, mundo\n",
      "Hola, mundo\n",
      "\n",
      "Esta es una cadena\n",
      "de múltiples líneas.\n",
      "\n"
     ]
    }
   ],
   "source": [
    "cadena_simple = 'Hola, mundo'\n",
    "cadena_doble = \"Hola, mundo\"\n",
    "cadena_multilinea = \"\"\"\n",
    "Esta es una cadena\n",
    "de múltiples líneas.\n",
    "\"\"\"\n",
    "\n",
    "print(cadena_simple)\n",
    "print(cadena_doble)\n",
    "print(cadena_multilinea)"
   ]
  },
  {
   "cell_type": "markdown",
   "metadata": {},
   "source": [
    "### Entero"
   ]
  },
  {
   "cell_type": "markdown",
   "metadata": {},
   "source": [
    "Es un tipo de dato que representa un número entero, es decir, un número sin parte decimal. \n",
    "\n",
    "Los enteros pueden ser positivos, negativos o cero. \n",
    "\n",
    "En Python, los enteros se representan con el tipo `int`."
   ]
  },
  {
   "cell_type": "code",
   "execution_count": 5,
   "metadata": {},
   "outputs": [
    {
     "name": "stdout",
     "output_type": "stream",
     "text": [
      "5\n",
      "-5\n",
      "<class 'int'>\n"
     ]
    }
   ],
   "source": [
    "entero_positivo = 5\n",
    "entero_negativo = -5\n",
    "cero = 0\n",
    "\n",
    "print(entero_positivo)\n",
    "print(entero_negativo)\n",
    "print(type(cero))"
   ]
  },
  {
   "cell_type": "markdown",
   "metadata": {},
   "source": [
    "### Flotante"
   ]
  },
  {
   "cell_type": "markdown",
   "metadata": {},
   "source": [
    "Es un tipo de dato que representa un número con parte decimal. \n",
    "\n",
    "Los números flotantes se utilizan para representar valores que no son enteros, como 3.14, -0.001, o 2.0. \n",
    "\n",
    "En Python, los flotantes se representan con el tipo `float`."
   ]
  },
  {
   "cell_type": "code",
   "execution_count": 6,
   "metadata": {},
   "outputs": [
    {
     "name": "stdout",
     "output_type": "stream",
     "text": [
      "5.5\n",
      "-5.5\n",
      "<class 'float'>\n"
     ]
    }
   ],
   "source": [
    "flotante_positivo = 5.5\n",
    "flotante_negativo = -5.5\n",
    "flotante_cero = 0.0\n",
    "\n",
    "print(flotante_positivo)\n",
    "print(flotante_negativo)\n",
    "print(type(flotante_cero))"
   ]
  },
  {
   "cell_type": "markdown",
   "metadata": {},
   "source": [
    "### Booleano"
   ]
  },
  {
   "cell_type": "markdown",
   "metadata": {},
   "source": [
    "Es un tipo de dato que puede tener uno de dos valores posibles: `True` o `False`. Estos valores se utilizan para representar la verdad o falsedad de una condición y son fundamentales en la lógica de control de flujo, como en las declaraciones condicionales (`if`, `else`) y los bucles (`while`, `for`)."
   ]
  },
  {
   "cell_type": "code",
   "execution_count": 7,
   "metadata": {},
   "outputs": [
    {
     "name": "stdout",
     "output_type": "stream",
     "text": [
      "True\n",
      "False\n"
     ]
    }
   ],
   "source": [
    "es_verdadero = True\n",
    "es_falso = False\n",
    "\n",
    "print(es_verdadero)\n",
    "print(es_falso)"
   ]
  },
  {
   "cell_type": "code",
   "execution_count": 8,
   "metadata": {},
   "outputs": [
    {
     "name": "stdout",
     "output_type": "stream",
     "text": [
      "False\n",
      "True\n",
      "False\n"
     ]
    }
   ],
   "source": [
    "resultado_and = es_verdadero and es_falso\n",
    "resultado_or = es_verdadero or es_falso\n",
    "resultado_not = not es_verdadero  \n",
    "\n",
    "print(resultado_and)\n",
    "print(resultado_or)\n",
    "print(resultado_not)"
   ]
  },
  {
   "cell_type": "code",
   "execution_count": 9,
   "metadata": {},
   "outputs": [
    {
     "name": "stdout",
     "output_type": "stream",
     "text": [
      "True\n",
      "True\n",
      "True\n",
      "False\n"
     ]
    }
   ],
   "source": [
    "# Comparaciones\n",
    "es_igual = (5 == 5)\n",
    "es_diferente = (5 != 3)    \n",
    "es_mayor = (5 > 3)         \n",
    "es_menor = (5 < 3)  \n",
    "\n",
    "print(es_igual)\n",
    "print(es_diferente)\n",
    "print(es_mayor)\n",
    "print(es_menor)"
   ]
  },
  {
   "cell_type": "markdown",
   "metadata": {},
   "source": [
    "### Lista"
   ]
  },
  {
   "cell_type": "markdown",
   "metadata": {},
   "source": [
    "Es una colección ordenada y mutable de elementos. Las listas pueden contener elementos de diferentes tipos, incluidos otros tipos de datos como enteros, flotantes, cadenas e incluso otras listas. Las listas se definen utilizando corchetes (`[]`) y los elementos se separan por comas."
   ]
  },
  {
   "cell_type": "code",
   "execution_count": 10,
   "metadata": {},
   "outputs": [
    {
     "name": "stdout",
     "output_type": "stream",
     "text": [
      "[]\n",
      "[1, 2, 3, 4, 5]\n",
      "[1, 'dos', 3.0, [4, 5]]\n"
     ]
    }
   ],
   "source": [
    "lista_vacia = []\n",
    "lista_numeros = [1, 2, 3, 4, 5]\n",
    "lista_mixta = [1, \"dos\", 3.0, [4, 5]]\n",
    "\n",
    "print(lista_vacia)\n",
    "print(lista_numeros)\n",
    "print(lista_mixta)"
   ]
  },
  {
   "cell_type": "markdown",
   "metadata": {},
   "source": [
    "### Tupla"
   ]
  },
  {
   "cell_type": "markdown",
   "metadata": {},
   "source": [
    "Es una colección ordenada e inmutable de elementos. Las tuplas son similares a las listas, pero a diferencia de las listas, las tuplas no pueden ser modificadas después de su creación. Las tuplas se definen utilizando paréntesis (`()`) y los elementos se separan por comas."
   ]
  },
  {
   "cell_type": "code",
   "execution_count": 11,
   "metadata": {},
   "outputs": [
    {
     "name": "stdout",
     "output_type": "stream",
     "text": [
      "()\n",
      "(1, 2, 3, 4, 5)\n",
      "(1, 'dos', 3.0, [4, 5])\n"
     ]
    }
   ],
   "source": [
    "tupla_vacia = ()\n",
    "tupla_numeros = (1, 2, 3, 4, 5)\n",
    "tupla_mixta = (1, \"dos\", 3.0, [4, 5])\n",
    "\n",
    "print(tupla_vacia)\n",
    "print(tupla_numeros)\n",
    "print(tupla_mixta)"
   ]
  },
  {
   "cell_type": "markdown",
   "metadata": {},
   "source": [
    "### Diccionario"
   ]
  },
  {
   "cell_type": "markdown",
   "metadata": {},
   "source": [
    "Es una colección desordenada, mutable e indexada de pares clave-valor. Los diccionarios se utilizan para almacenar datos en los que cada valor está asociado con una clave única. Los diccionarios se definen utilizando llaves (`{}`) y los pares clave-valor se separan por comas, con la clave y el valor separados por dos puntos (`:`)."
   ]
  },
  {
   "cell_type": "code",
   "execution_count": 12,
   "metadata": {},
   "outputs": [
    {
     "name": "stdout",
     "output_type": "stream",
     "text": [
      "{}\n",
      "{'nombre': 'Ana', 'edad': 25, 'ciudad': 'Madrid'}\n"
     ]
    }
   ],
   "source": [
    "diccionario_vacio = {}\n",
    "diccionario = {\n",
    "    \"nombre\": \"Ana\",\n",
    "    \"edad\": 25,\n",
    "    \"ciudad\": \"Madrid\"\n",
    "}\n",
    "\n",
    "print(diccionario_vacio)\n",
    "print(diccionario)"
   ]
  },
  {
   "cell_type": "markdown",
   "metadata": {},
   "source": [
    "## Tarea"
   ]
  },
  {
   "cell_type": "markdown",
   "metadata": {},
   "source": [
    "¿Cuáles son los principales operadores en Python?"
   ]
  }
 ],
 "metadata": {
  "kernelspec": {
   "display_name": "Python 3",
   "language": "python",
   "name": "python3"
  },
  "language_info": {
   "codemirror_mode": {
    "name": "ipython",
    "version": 3
   },
   "file_extension": ".py",
   "mimetype": "text/x-python",
   "name": "python",
   "nbconvert_exporter": "python",
   "pygments_lexer": "ipython3",
   "version": "3.9.6"
  }
 },
 "nbformat": 4,
 "nbformat_minor": 2
}
